{
 "cells": [
  {
   "cell_type": "code",
   "execution_count": 1,
   "id": "fd30ab6c",
   "metadata": {},
   "outputs": [
    {
     "name": "stderr",
     "output_type": "stream",
     "text": [
      "[nltk_data] Downloading package stopwords to\n",
      "[nltk_data]     C:\\Users\\karan\\AppData\\Roaming\\nltk_data...\n",
      "[nltk_data]   Package stopwords is already up-to-date!\n",
      "[nltk_data] Downloading package wordnet to\n",
      "[nltk_data]     C:\\Users\\karan\\AppData\\Roaming\\nltk_data...\n",
      "[nltk_data]   Package wordnet is already up-to-date!\n",
      "[nltk_data] Downloading package brown to\n",
      "[nltk_data]     C:\\Users\\karan\\AppData\\Roaming\\nltk_data...\n",
      "[nltk_data]   Package brown is already up-to-date!\n",
      "[nltk_data] Downloading package punkt to\n",
      "[nltk_data]     C:\\Users\\karan\\AppData\\Roaming\\nltk_data...\n",
      "[nltk_data]   Package punkt is already up-to-date!\n",
      "[nltk_data] Downloading package averaged_perceptron_tagger to\n",
      "[nltk_data]     C:\\Users\\karan\\AppData\\Roaming\\nltk_data...\n",
      "[nltk_data]   Package averaged_perceptron_tagger is already up-to-\n",
      "[nltk_data]       date!\n",
      "d:\\karan\\projects\\ai\\venvs\\nlp\\lib\\site-packages\\gensim\\similarities\\__init__.py:15: UserWarning: The gensim.similarities.levenshtein submodule is disabled, because the optional Levenshtein package <https://pypi.org/project/python-Levenshtein/> is unavailable. Install Levenhstein (e.g. `pip install python-Levenshtein`) to suppress this warning.\n",
      "  warnings.warn(msg)\n"
     ]
    }
   ],
   "source": [
    "import getpass\n",
    "import requests\n",
    "import urllib.parse\n",
    "import nltk\n",
    "nltk.download('stopwords')\n",
    "nltk.download('wordnet')\n",
    "nltk.download('brown')# for TextBlob or pos\n",
    "nltk.download('punkt')# for tokenize\n",
    "nltk.download('averaged_perceptron_tagger') # for pos\n",
    "from nltk.corpus import stopwords\n",
    "from nltk.stem.wordnet import WordNetLemmatizer\n",
    "import string\n",
    "import gensim\n",
    "from textblob import TextBlob"
   ]
  },
  {
   "cell_type": "markdown",
   "id": "2d9123b6",
   "metadata": {},
   "source": [
    "## Connectivity with Bing Search"
   ]
  },
  {
   "cell_type": "code",
   "execution_count": 2,
   "id": "91f6c1c6",
   "metadata": {},
   "outputs": [
    {
     "name": "stdout",
     "output_type": "stream",
     "text": [
      "········\n"
     ]
    }
   ],
   "source": [
    "search_url = \"https://eastus.api.cognitive.microsoft.com/bing/v7.0/search\"\n",
    "subscription_key = getpass.getpass()"
   ]
  },
  {
   "cell_type": "code",
   "execution_count": 49,
   "id": "0c6ced75",
   "metadata": {},
   "outputs": [],
   "source": [
    "#https://docs.microsoft.com/en-us/rest/api/cognitiveservices-bingsearch/bing-web-api-v7-reference\n",
    "def bingSearch(search_term: str, lang = 'en'):\n",
    "    headers = {\"Ocp-Apim-Subscription-Key\": subscription_key}\n",
    "    #urllib.parse.quote(search_term)\n",
    "    params = {\"q\": search_term, \"textDecorations\": False, \"textFormat\": \"HTML\", 'setLang': lang, 'count':50}\n",
    "    response = requests.get(search_url, headers=headers, params=params)\n",
    "    response.raise_for_status()\n",
    "    return response.json()"
   ]
  },
  {
   "cell_type": "code",
   "execution_count": 25,
   "id": "e068f980",
   "metadata": {},
   "outputs": [
    {
     "data": {
      "text/plain": [
       "{'id': 'https://eastus.api.cognitive.microsoft.com/api/v7/#WebPages.0',\n",
       " 'name': 'Anti Money Laundering (AML) Definition',\n",
       " 'url': 'https://www.investopedia.com/terms/a/aml.asp',\n",
       " 'isFamilyFriendly': True,\n",
       " 'displayUrl': 'https://www.investopedia.com/terms/a/aml.asp',\n",
       " 'snippet': 'Anti Money Laundering (AML) seeks to deter criminals by making it harder for them to hide ill-gotten money. Criminals use money laundering to conceal their crimes and the money derived from them....',\n",
       " 'dateLastCrawled': '2021-06-11T16:13:00.0000000Z',\n",
       " 'language': 'en',\n",
       " 'isNavigational': False}"
      ]
     },
     "execution_count": 25,
     "metadata": {},
     "output_type": "execute_result"
    }
   ],
   "source": [
    "result = bingSearch(\"AML\")['webPages']['value']\n",
    "result[0]"
   ]
  },
  {
   "cell_type": "markdown",
   "id": "f95b2e2c",
   "metadata": {},
   "source": [
    "## AML Dicts"
   ]
  },
  {
   "cell_type": "code",
   "execution_count": 27,
   "id": "ab78a64f",
   "metadata": {},
   "outputs": [
    {
     "name": "stdout",
     "output_type": "stream",
     "text": [
      "['arabic', 'azerbaijani', 'danish', 'dutch', 'english', 'finnish', 'french', 'german', 'greek', 'hungarian', 'indonesian', 'italian', 'kazakh', 'nepali', 'norwegian', 'portuguese', 'romanian', 'russian', 'slovene', 'spanish', 'swedish', 'tajik', 'turkish']\n"
     ]
    }
   ],
   "source": [
    "amldict = {'blacklist':0, 'sanction':0, 'ofac':0, 'embargo':0}\n",
    "print(stopwords.fileids())"
   ]
  },
  {
   "cell_type": "code",
   "execution_count": 6,
   "id": "361d8647",
   "metadata": {},
   "outputs": [],
   "source": [
    "langToStopWord = {'nl':'dutch',\n",
    "'en':'english',\n",
    "'fr':'french',\n",
    "'de':'german',\n",
    "'ru':'russian',\n",
    "'it':'italian',\n",
    "'es':'spanish'}"
   ]
  },
  {
   "cell_type": "markdown",
   "id": "a4eae663",
   "metadata": {},
   "source": [
    "## Text Preprocessing\n",
    "- remove stopwords like a, an, um\n",
    "- remove punctuation\n",
    "- lemmatize best, better to equivalent words like good"
   ]
  },
  {
   "cell_type": "code",
   "execution_count": 7,
   "id": "13d9d523",
   "metadata": {},
   "outputs": [],
   "source": [
    "\n",
    "exclude = set(string.punctuation)\n",
    "lemma = WordNetLemmatizer()\n",
    "def clean(doc, langShort='english'):\n",
    "    langFull = langToStopWord[langShort] if langToStopWord.__contains__(langShort) else 'english'\n",
    "    stop = set(stopwords.words(langFull))\n",
    "    stop_free = \" \".join([i for i in doc.lower().split() if i not in stop])\n",
    "    punc_free =''.join(ch for ch in stop_free if ch not in exclude)\n",
    "    normalized = \" \".join(lemma.lemmatize(word) for word in punc_free.split())\n",
    "    return normalized"
   ]
  },
  {
   "cell_type": "code",
   "execution_count": 8,
   "id": "b505da04",
   "metadata": {},
   "outputs": [
    {
     "data": {
      "text/plain": [
       "'anti money laundering aml seek deter criminal making harder hide illgotten money criminal use money laundering conceal crime money derived them'"
      ]
     },
     "execution_count": 8,
     "metadata": {},
     "output_type": "execute_result"
    }
   ],
   "source": [
    "clean(result[0]['snippet'], result[0]['language'])"
   ]
  },
  {
   "cell_type": "code",
   "execution_count": 9,
   "id": "74919072",
   "metadata": {},
   "outputs": [
    {
     "data": {
      "text/plain": [
       "'blacklist sanction ofac embargo'"
      ]
     },
     "execution_count": 9,
     "metadata": {},
     "output_type": "execute_result"
    }
   ],
   "source": [
    "clean('blacklist sanction ofac embargo')"
   ]
  },
  {
   "cell_type": "markdown",
   "id": "9791a0f0",
   "metadata": {},
   "source": [
    "## gensim model download"
   ]
  },
  {
   "cell_type": "code",
   "execution_count": 10,
   "id": "0e0d049f",
   "metadata": {},
   "outputs": [
    {
     "name": "stdout",
     "output_type": "stream",
     "text": [
      "^C\n"
     ]
    }
   ],
   "source": [
    "#!curl -o ../downloads/GoogleNews-vectors-negative300.bin.gz https://s3.amazonaws.com/dl4j-distribution/GoogleNews-vectors-negative300.bin.gz"
   ]
  },
  {
   "cell_type": "code",
   "execution_count": 11,
   "id": "6ca62675",
   "metadata": {},
   "outputs": [
    {
     "name": "stderr",
     "output_type": "stream",
     "text": [
      "gzip: ../downloads/GoogleNews-vectors-negative300.bin already exists;\tnot overwritten\n"
     ]
    }
   ],
   "source": [
    "#!gzip -d ../downloads/GoogleNews-vectors-negative300.bin.gz"
   ]
  },
  {
   "cell_type": "code",
   "execution_count": 13,
   "id": "28018a7a",
   "metadata": {},
   "outputs": [
    {
     "name": "stderr",
     "output_type": "stream",
     "text": [
      "  % Total    % Received % Xferd  Average Speed   Time    Time     Time  Current\n",
      "                                 Dload  Upload   Total   Spent    Left  Speed\n",
      "\n",
      "  0     0    0     0    0     0      0      0 --:--:-- --:--:-- --:--:--     0\n",
      "  0     0    0     0    0     0      0      0 --:--:-- --:--:-- --:--:--     0\n",
      "  0 1570M    0  146k    0     0   146k      0  3:03:24  0:00:01  3:03:23 93892\n",
      "  0 1570M    0 1421k    0     0   710k      0  0:37:43  0:00:02  0:37:41  541k\n",
      "  0 1570M    0 4531k    0     0  1132k      0  0:23:39  0:00:04  0:23:35 1090k\n",
      "  0 1570M    0 4547k    0     0  1136k      0  0:23:34  0:00:04  0:23:30  996k\n",
      "  0 1570M    0 4771k    0     0   954k      0  0:28:05  0:00:05  0:28:00  969k\n",
      "  0 1570M    0 11.7M    0     0  2013k      0  0:13:18  0:00:06  0:13:12 2315k\n",
      "  1 1570M    1 21.0M    0     0  3072k      0  0:08:43  0:00:07  0:08:36 3931k\n",
      "  1 1570M    1 30.2M    0     0  3870k      0  0:06:55  0:00:08  0:06:47 5792k\n",
      "  2 1570M    2 40.1M    0     0  4572k      0  0:05:51  0:00:09  0:05:42 6994k\n",
      "  3 1570M    3 47.6M    0     0  4880k      0  0:05:29  0:00:10  0:05:19 8780k\n",
      "  3 1570M    3 57.3M    0     0  5339k      0  0:05:01  0:00:11  0:04:50 9159k\n",
      "  4 1570M    4 63.5M    0     0  5418k      0  0:04:56  0:00:12  0:04:44 8841k\n",
      "  4 1570M    4 71.7M    0     0  5654k      0  0:04:44  0:00:13  0:04:31 8561k\n",
      "  5 1570M    5 80.5M    0     0  5888k      0  0:04:33  0:00:14  0:04:19 8578k\n",
      "  5 1570M    5 89.3M    0     0  6101k      0  0:04:23  0:00:15  0:04:08 8516k\n",
      "  6 1570M    6  100M    0     0  6439k      0  0:04:09  0:00:16  0:03:53 9203k\n",
      "  7 1570M    7  111M    0     0  6741k      0  0:03:58  0:00:17  0:03:41 9674k\n",
      "  7 1570M    7  119M    0     0  6791k      0  0:03:56  0:00:18  0:03:38 9539k\n",
      "  7 1570M    7  122M    0     0  6603k      0  0:04:03  0:00:19  0:03:44 8577k\n",
      "  8 1570M    8  127M    0     0  6504k      0  0:04:07  0:00:20  0:03:47 7690k\n",
      "  8 1570M    8  130M    0     0  6371k      0  0:04:12  0:00:21  0:03:51 6270k\n",
      "  8 1570M    8  134M    0     0  6257k      0  0:04:17  0:00:22  0:03:55 4790k\n",
      "  8 1570M    8  138M    0     0  6156k      0  0:04:21  0:00:23  0:03:58 3946k\n",
      "  9 1570M    9  142M    0     0  6095k      0  0:04:23  0:00:24  0:03:59 4077k\n",
      "  9 1570M    9  145M    0     0  5973k      0  0:04:29  0:00:25  0:04:04 3910k\n",
      "  9 1570M    9  149M    0     0  5899k      0  0:04:32  0:00:26  0:04:06 3908k\n",
      "  9 1570M    9  153M    0     0  5834k      0  0:04:35  0:00:27  0:04:08 3959k\n",
      " 10 1570M   10  158M    0     0  5796k      0  0:04:37  0:00:28  0:04:09 4137k\n",
      " 10 1570M   10  163M    0     0  5757k      0  0:04:39  0:00:29  0:04:10 4270k\n",
      " 10 1570M   10  168M    0     0  5741k      0  0:04:40  0:00:30  0:04:10 4579k\n",
      " 11 1570M   11  173M    0     0  5739k      0  0:04:40  0:00:31  0:04:09 4893k\n",
      " 11 1570M   11  179M    0     0  5736k      0  0:04:40  0:00:32  0:04:08 5254k\n",
      " 11 1570M   11  185M    0     0  5746k      0  0:04:39  0:00:33  0:04:06 5573k\n",
      " 12 1570M   12  189M    0     0  5710k      0  0:04:41  0:00:34  0:04:07 5433k\n",
      " 12 1570M   12  194M    0     0  5690k      0  0:04:42  0:00:35  0:04:07 5382k\n",
      " 12 1570M   12  199M    0     0  5681k      0  0:04:43  0:00:36  0:04:07 5351k\n",
      " 13 1570M   13  204M    0     0  5669k      0  0:04:43  0:00:37  0:04:06 5225k\n",
      " 13 1570M   13  210M    0     0  5669k      0  0:04:43  0:00:38  0:04:05 5145k\n",
      " 13 1570M   13  215M    0     0  5662k      0  0:04:44  0:00:39  0:04:05 5219k\n",
      " 14 1570M   14  221M    0     0  5664k      0  0:04:43  0:00:40  0:04:03 5451k\n",
      " 14 1570M   14  227M    0     0  5671k      0  0:04:43  0:00:41  0:04:02 5603k\n",
      " 14 1570M   14  232M    0     0  5679k      0  0:04:43  0:00:42  0:04:01 5721k\n",
      " 15 1570M   15  238M    0     0  5685k      0  0:04:42  0:00:43  0:03:59 5863k\n",
      " 15 1570M   15  244M    0     0  5698k      0  0:04:42  0:00:44  0:03:58 6134k\n",
      " 15 1570M   15  251M    0     0  5716k      0  0:04:41  0:00:45  0:03:56 6150k\n",
      " 16 1570M   16  257M    0     0  5728k      0  0:04:40  0:00:46  0:03:54 6192k\n",
      " 16 1570M   16  263M    0     0  5745k      0  0:04:39  0:00:47  0:03:52 6359k\n",
      " 17 1570M   17  270M    0     0  5762k      0  0:04:39  0:00:48  0:03:51 6444k\n",
      " 17 1570M   17  277M    0     0  5788k      0  0:04:37  0:00:49  0:03:48 6585k\n",
      " 18 1570M   18  284M    0     0  5833k      0  0:04:35  0:00:50  0:03:45 6903k\n",
      " 18 1570M   18  293M    0     0  5883k      0  0:04:33  0:00:51  0:03:42 7305k\n",
      " 19 1570M   19  301M    0     0  5944k      0  0:04:30  0:00:52  0:03:38 7787k\n",
      " 19 1570M   19  311M    0     0  6015k      0  0:04:27  0:00:53  0:03:34 8438k\n",
      " 20 1570M   20  321M    0     0  6104k      0  0:04:23  0:00:54  0:03:29 9203k\n",
      " 21 1570M   21  334M    0     0  6222k      0  0:04:18  0:00:55  0:03:23  9.8M\n",
      " 22 1570M   22  347M    0     0  6361k      0  0:04:12  0:00:56  0:03:16 10.9M\n",
      " 23 1570M   23  363M    0     0  6531k      0  0:04:06  0:00:57  0:03:09 12.3M\n",
      " 24 1570M   24  381M    0     0  6734k      0  0:03:58  0:00:58  0:03:00 14.0M\n",
      " 25 1570M   25  401M    0     0  6960k      0  0:03:51  0:00:59  0:02:52 15.8M\n",
      " 26 1570M   26  422M    0     0  7216k      0  0:03:42  0:01:00  0:02:42 17.7M\n",
      " 28 1570M   28  447M    0     0  7517k      0  0:03:33  0:01:01  0:02:32 19.9M\n",
      " 30 1570M   30  476M    0     0  7863k      0  0:03:24  0:01:02  0:02:22 22.5M\n",
      " 32 1570M   32  506M    0     0  8224k      0  0:03:15  0:01:03  0:02:12 24.9M\n",
      " 33 1570M   33  523M    0     0  8372k      0  0:03:12  0:01:04  0:02:08 24.2M\n",
      " 34 1570M   34  539M    0     0  8503k      0  0:03:09  0:01:05  0:02:04 23.3M\n",
      " 35 1570M   35  557M    0     0  8644k      0  0:03:06  0:01:06  0:02:00 21.8M\n",
      " 36 1570M   36  575M    0     0  8796k      0  0:03:02  0:01:07  0:01:55 19.8M\n",
      " 37 1570M   37  594M    0     0  8953k      0  0:02:59  0:01:08  0:01:51 17.7M\n",
      " 39 1570M   39  614M    0     0  9112k      0  0:02:56  0:01:09  0:01:47 18.3M\n",
      " 40 1570M   40  633M    0     0  9266k      0  0:02:53  0:01:10  0:01:43 18.7M\n",
      " 41 1570M   41  653M    0     0  9419k      0  0:02:50  0:01:11  0:01:39 19.1M\n",
      " 42 1570M   42  672M    0     0  9568k      0  0:02:48  0:01:12  0:01:36 19.4M\n",
      " 44 1570M   44  692M    0     0  9716k      0  0:02:45  0:01:13  0:01:32 19.6M\n",
      " 45 1570M   45  712M    0     0  9856k      0  0:02:43  0:01:14  0:01:29 19.6M\n",
      " 46 1570M   46  732M    0     0  9994k      0  0:02:40  0:01:15  0:01:25 19.7M\n",
      " 47 1570M   47  751M    0     0   9.8M      0  0:02:38  0:01:16  0:01:22 19.7M\n",
      " 49 1570M   49  771M    0     0  10.0M      0  0:02:36  0:01:17  0:01:19 19.7M\n",
      " 50 1570M   50  787M    0     0  10.0M      0  0:02:35  0:01:18  0:01:17 18.9M\n",
      " 51 1570M   51  802M    0     0  10.1M      0  0:02:34  0:01:19  0:01:15 18.0M\n",
      " 52 1570M   52  818M    0     0  10.2M      0  0:02:33  0:01:20  0:01:13 17.3M\n",
      " 53 1570M   53  836M    0     0  10.3M      0  0:02:32  0:01:21  0:01:11 16.8M\n",
      " 54 1570M   54  854M    0     0  10.4M      0  0:02:30  0:01:22  0:01:08 16.4M\n",
      " 55 1570M   55  872M    0     0  10.5M      0  0:02:29  0:01:23  0:01:06 17.0M\n",
      " 56 1570M   56  891M    0     0  10.6M      0  0:02:27  0:01:24  0:01:03 17.8M\n",
      " 58 1570M   58  911M    0     0  10.7M      0  0:02:26  0:01:25  0:01:01 18.4M\n",
      " 59 1570M   59  930M    0     0  10.8M      0  0:02:25  0:01:26  0:00:59 18.8M\n",
      " 60 1570M   60  950M    0     0  10.9M      0  0:02:23  0:01:27  0:00:56 19.2M\n",
      " 61 1570M   61  970M    0     0  11.0M      0  0:02:22  0:01:28  0:00:54 19.5M\n",
      " 63 1570M   63  989M    0     0  11.1M      0  0:02:21  0:01:29  0:00:52 19.6M\n",
      " 64 1570M   64 1009M    0     0  11.2M      0  0:02:19  0:01:30  0:00:49 19.7M\n",
      " 65 1570M   65 1029M    0     0  11.3M      0  0:02:18  0:01:31  0:00:47 19.9M\n",
      " 66 1570M   66 1049M    0     0  11.4M      0  0:02:17  0:01:32  0:00:45 19.8M\n",
      " 68 1570M   68 1069M    0     0  11.4M      0  0:02:16  0:01:33  0:00:43 19.7M\n",
      " 69 1570M   69 1089M    0     0  11.5M      0  0:02:15  0:01:34  0:00:41 19.8M\n",
      " 70 1570M   70 1109M    0     0  11.6M      0  0:02:14  0:01:35  0:00:39 19.8M\n",
      " 71 1570M   71 1129M    0     0  11.7M      0  0:02:13  0:01:36  0:00:37 19.9M\n",
      " 73 1570M   73 1150M    0     0  11.8M      0  0:02:12  0:01:37  0:00:35 20.1M\n",
      " 74 1570M   74 1171M    0     0  11.9M      0  0:02:11  0:01:38  0:00:33 20.3M\n",
      " 75 1570M   75 1192M    0     0  12.0M      0  0:02:10  0:01:39  0:00:31 20.7M\n",
      " 77 1570M   77 1214M    0     0  12.1M      0  0:02:09  0:01:40  0:00:29 21.0M\n",
      " 78 1570M   78 1237M    0     0  12.2M      0  0:02:08  0:01:41  0:00:27 21.6M\n",
      " 80 1570M   80 1261M    0     0  12.3M      0  0:02:07  0:01:42  0:00:25 22.2M\n",
      " 81 1570M   81 1286M    0     0  12.4M      0  0:02:05  0:01:43  0:00:22 23.0M\n",
      " 83 1570M   83 1312M    0     0  12.6M      0  0:02:04  0:01:44  0:00:20 24.0M\n",
      " 85 1570M   85 1340M    0     0  12.7M      0  0:02:03  0:01:45  0:00:18 25.2M\n",
      " 87 1570M   87 1369M    0     0  12.9M      0  0:02:01  0:01:46  0:00:15 26.4M\n",
      " 89 1570M   89 1401M    0     0  13.0M      0  0:01:59  0:01:47  0:00:12 28.0M\n",
      " 91 1570M   91 1435M    0     0  13.2M      0  0:01:58  0:01:48  0:00:10 29.7M\n",
      " 93 1570M   93 1465M    0     0  13.4M      0  0:01:56  0:01:49  0:00:07 30.2M\n",
      " 94 1570M   94 1483M    0     0  13.4M      0  0:01:56  0:01:50  0:00:06 27.6M\n",
      " 94 1570M   94 1489M    0     0  13.4M      0  0:01:57  0:01:51  0:00:06 23.3M\n",
      " 95 1570M   95 1496M    0     0  13.3M      0  0:01:57  0:01:52  0:00:05 18.0M\n",
      " 95 1570M   95 1501M    0     0  13.2M      0  0:01:58  0:01:53  0:00:05 13.1M\n",
      " 96 1570M   96 1509M    0     0  13.2M      0  0:01:58  0:01:54  0:00:04 8764k\n",
      " 96 1570M   96 1515M    0     0  13.1M      0  0:01:59  0:01:55  0:00:04 6446k\n",
      " 96 1570M   96 1521M    0     0  13.1M      0  0:01:59  0:01:56  0:00:03 6543k\n",
      " 97 1570M   97 1526M    0     0  13.0M      0  0:02:00  0:01:57  0:00:03 6518k\n",
      " 97 1570M   97 1534M    0     0  13.0M      0  0:02:00  0:01:58  0:00:02 6762k\n",
      " 98 1570M   98 1539M    0     0  12.9M      0  0:02:01  0:01:59  0:00:02 6419k\n",
      " 98 1570M   98 1546M    0     0  12.8M      0  0:02:01  0:02:00  0:00:01 6592k\n",
      " 98 1570M   98 1553M    0     0  12.8M      0  0:02:02  0:02:01  0:00:01 6433k\n",
      " 99 1570M   99 1557M    0     0  12.7M      0  0:02:03  0:02:02  0:00:01 6245k\n",
      " 99 1570M   99 1561M    0     0  12.6M      0  0:02:03  0:02:03 --:--:-- 5622k\n",
      " 99 1570M   99 1567M    0     0  12.6M      0  0:02:04  0:02:04 --:--:-- 5441k\n",
      "100 1570M  100 1570M    0     0  12.5M      0  0:02:05  0:02:05 --:--:-- 5361k\n"
     ]
    }
   ],
   "source": [
    "model = gensim.models.KeyedVectors.load_word2vec_format('../downloads/GoogleNews-vectors-negative300.bin', binary=True)"
   ]
  },
  {
   "cell_type": "code",
   "execution_count": 14,
   "id": "c0df58a3",
   "metadata": {},
   "outputs": [
    {
     "data": {
      "text/plain": [
       "0.44346452"
      ]
     },
     "execution_count": 14,
     "metadata": {},
     "output_type": "execute_result"
    }
   ],
   "source": [
    "model.similarity('sanction', 'penalty')#promising"
   ]
  },
  {
   "cell_type": "code",
   "execution_count": 15,
   "id": "47593a8e",
   "metadata": {},
   "outputs": [
    {
     "data": {
      "text/plain": [
       "0.48116162"
      ]
     },
     "execution_count": 15,
     "metadata": {},
     "output_type": "execute_result"
    }
   ],
   "source": [
    "model.similarity('embargo', 'ban')#promising"
   ]
  },
  {
   "cell_type": "code",
   "execution_count": 30,
   "id": "1bbdcc76",
   "metadata": {},
   "outputs": [
    {
     "data": {
      "text/plain": [
       "0.45747817"
      ]
     },
     "execution_count": 30,
     "metadata": {},
     "output_type": "execute_result"
    }
   ],
   "source": [
    "model.similarity('sanction', 'ban')"
   ]
  },
  {
   "cell_type": "code",
   "execution_count": 57,
   "id": "7b774f3a",
   "metadata": {},
   "outputs": [
    {
     "data": {
      "text/plain": [
       "0.5215435"
      ]
     },
     "execution_count": 57,
     "metadata": {},
     "output_type": "execute_result"
    }
   ],
   "source": [
    "model.similarity('blacklist', 'list')"
   ]
  },
  {
   "cell_type": "code",
   "execution_count": 16,
   "id": "a1c405fb",
   "metadata": {},
   "outputs": [
    {
     "data": {
      "text/plain": [
       "0.2879609"
      ]
     },
     "execution_count": 16,
     "metadata": {},
     "output_type": "execute_result"
    }
   ],
   "source": [
    "model.similarity('sanction', 'embargo')#now aml words are eating into each other"
   ]
  },
  {
   "cell_type": "code",
   "execution_count": 17,
   "id": "47c7807f",
   "metadata": {},
   "outputs": [
    {
     "name": "stdout",
     "output_type": "stream",
     "text": [
      "not present\n"
     ]
    }
   ],
   "source": [
    "try:\n",
    "    model.similarity('schwarze','blacklist')\n",
    "except KeyError:\n",
    "    print('not present')"
   ]
  },
  {
   "cell_type": "markdown",
   "id": "3fc028d1",
   "metadata": {},
   "source": [
    "## removal of proper noun"
   ]
  },
  {
   "cell_type": "code",
   "execution_count": null,
   "id": "89678918",
   "metadata": {},
   "outputs": [],
   "source": [
    "blob = TextBlob(\"Sanction was imposed on CCCC company\")"
   ]
  },
  {
   "cell_type": "code",
   "execution_count": 18,
   "id": "83d579b8",
   "metadata": {},
   "outputs": [
    {
     "name": "stdout",
     "output_type": "stream",
     "text": [
      "[('Sanction', 'NN'), ('was', 'VBD'), ('imposed', 'VBN'), ('on', 'IN'), ('CCCC', 'NNP'), ('company', 'NN')]\n"
     ]
    }
   ],
   "source": [
    "print(nltk.pos_tag(nltk.word_tokenize(\"Sanction was imposed on CCCC company\")))"
   ]
  },
  {
   "cell_type": "code",
   "execution_count": 20,
   "id": "d939bac5",
   "metadata": {},
   "outputs": [
    {
     "name": "stdout",
     "output_type": "stream",
     "text": [
      "[('Apple', 'NNP'), ('was', 'VBD'), ('founded', 'VBN'), ('by', 'IN'), ('Steve', 'NNP'), ('Jobs', 'NNP')]\n"
     ]
    }
   ],
   "source": [
    "print(nltk.pos_tag(nltk.word_tokenize(\"Apple was founded by Steve Jobs\")))"
   ]
  },
  {
   "cell_type": "code",
   "execution_count": 22,
   "id": "c705bd33",
   "metadata": {},
   "outputs": [],
   "source": [
    "def removeProperNoun(sentence):\n",
    "    return ' '.join([word for word,tag in nltk.pos_tag(nltk.word_tokenize(sentence)) if tag != 'NNP' and tag != 'NNPS'])"
   ]
  },
  {
   "cell_type": "code",
   "execution_count": 23,
   "id": "bb45f85e",
   "metadata": {},
   "outputs": [
    {
     "data": {
      "text/plain": [
       "'was founded by'"
      ]
     },
     "execution_count": 23,
     "metadata": {},
     "output_type": "execute_result"
    }
   ],
   "source": [
    "removeProperNoun(\"Apple was founded by Steve Jobs\")"
   ]
  },
  {
   "cell_type": "markdown",
   "id": "56013981",
   "metadata": {},
   "source": [
    "## count keywords\n"
   ]
  },
  {
   "cell_type": "code",
   "execution_count": 42,
   "id": "433112ff",
   "metadata": {},
   "outputs": [
    {
     "name": "stdout",
     "output_type": "stream",
     "text": [
      "sanction === sanction\n",
      "list === blacklist\n",
      "sanction === sanction\n",
      "sanction === sanction\n",
      "sanction === sanction\n",
      "restriction === embargo\n",
      "sanctioned === sanction\n",
      "restriction === embargo\n",
      "penalty === sanction\n",
      "sanction === sanction\n",
      "sanction === sanction\n",
      "restriction === embargo\n",
      "ban === embargo\n",
      "{'blacklist': 1, 'sanction': 8, 'ofac': 0, 'embargo': 4}\n"
     ]
    }
   ],
   "source": [
    "# from https://sanctionscanner.com/knowledge-base/un-sanctions-list-50\n",
    "text=\"\"\"\n",
    "Governments fight financial crime globally with new sanctions, including lists of states, entities, or individuals suspected of engaging in or being consistent with illegal activities.\n",
    "\n",
    "UN sanctions are diplomatic decisions enforced by the United Nations organizations and states against other states, entities, or individuals. These sanctions are measures of safety to preserve national safety interests, peace, and international law.\n",
    "\n",
    "The international sanctions are generally special restrictions on cultural, economic, trading, and diplomatic relationships with a certain country designated individual or organization.\n",
    "\n",
    "It is crucial to know if the client is subject to specific regulations or the corporation is coming from a sanctioned country. By knowing this information, institutions act accordingly and blocking them or applying needed restrictions to their interaction.\n",
    "\n",
    "Businesses have to comply with these regulations. Otherwise, they will face harsh legal measurements, such as criminal and civil penalties.\n",
    "\n",
    "Sanctions and the way of handling them are wide and depend on a reason or a specific case to applied regulations. Firms or individuals subjected to sanctions may be specific individuals prohibited from the UN, such as states or terrorists, meaning that their nationals have become influenced by restrictions like trade barriers or travel ban.\n",
    "\n",
    "\"\"\"\n",
    "\n",
    "def runPipeLine(text):\n",
    "    cleanedText = clean(removeProperNoun(text))\n",
    "    for textToken in nltk.word_tokenize(cleanedText):\n",
    "        for key in amldict:\n",
    "            try:\n",
    "                score = 0.4\n",
    "                if(textToken == 'ban'):\n",
    "                    score = 0.48\n",
    "                if(model.similarity(textToken,key)>score):\n",
    "                    print(f'{textToken} === {key}')\n",
    "                    amldict[key]=amldict[key]+1\n",
    "            except KeyError:\n",
    "                pass\n",
    "runPipeLine(text)\n",
    "print(amldict)"
   ]
  },
  {
   "cell_type": "markdown",
   "id": "5d461c3b",
   "metadata": {},
   "source": [
    "## Run the pipeline"
   ]
  },
  {
   "cell_type": "code",
   "execution_count": 58,
   "id": "6de533f8",
   "metadata": {},
   "outputs": [],
   "source": [
    "def reset():\n",
    "    amldict = {'blacklist':0, 'sanction':0, 'ofac':0, 'embargo':0}"
   ]
  },
  {
   "cell_type": "code",
   "execution_count": 56,
   "id": "a5db6607",
   "metadata": {},
   "outputs": [
    {
     "name": "stdout",
     "output_type": "stream",
     "text": [
      "list === blacklist\n",
      "list === blacklist\n",
      "list === blacklist\n",
      "sanction === sanction\n"
     ]
    }
   ],
   "source": [
    "company = 'ABU SAYYAF GROUP'\n",
    "searchTerm = ' AND (blacklist OR sanction OR ofac OR embargo)'\n",
    "\n",
    "result = bingSearch(f\"{company}{searchTerm}\")['webPages']['value']\n",
    "for searchResult in result: #filter by lang to improve error handling\n",
    "    runPipeLine(f\"{searchResult['snippet']} {searchResult['name']}\")"
   ]
  },
  {
   "cell_type": "code",
   "execution_count": 55,
   "id": "4755c0be",
   "metadata": {},
   "outputs": [
    {
     "name": "stdout",
     "output_type": "stream",
     "text": [
      "ABU SAYYAF GROUP\n",
      "{'blacklist': 3, 'sanction': 1, 'ofac': 0, 'embargo': 2}\n"
     ]
    }
   ],
   "source": [
    "print(company)\n",
    "print(amldict)"
   ]
  },
  {
   "cell_type": "code",
   "execution_count": 59,
   "id": "9a738a04",
   "metadata": {},
   "outputs": [
    {
     "name": "stdout",
     "output_type": "stream",
     "text": [
      "sanction === sanction\n",
      "list === blacklist\n",
      "sanction === sanction\n",
      "list === blacklist\n",
      "ban === embargo\n",
      "embargo === embargo\n",
      "list === blacklist\n",
      "sanction === sanction\n",
      "list === blacklist\n",
      "ban === embargo\n",
      "embargo === embargo\n",
      "list === blacklist\n",
      "list === blacklist\n",
      "list === blacklist\n",
      "list === blacklist\n",
      "sanction === sanction\n",
      "list === blacklist\n",
      "sanction === sanction\n",
      "list === blacklist\n",
      "ban === embargo\n",
      "embargo === embargo\n",
      "embargo === embargo\n",
      "sanction === sanction\n",
      "list === blacklist\n",
      "ban === embargo\n",
      "embargo === embargo\n",
      "blacklist === blacklist\n",
      "sanction === sanction\n",
      "list === blacklist\n",
      "proscription === sanction\n",
      "list === blacklist\n",
      "list === blacklist\n",
      "proscription === sanction\n",
      "list === blacklist\n",
      "blacklist === blacklist\n",
      "list === blacklist\n",
      "sanction === sanction\n"
     ]
    }
   ],
   "source": [
    "## next exp\n",
    "reset()\n",
    "company = 'EMARAT KAVKAZ'\n",
    "result = bingSearch(f\"{company}{searchTerm}\")['webPages']['value']\n",
    "for searchResult in result: #filter by lang to improve error handling\n",
    "    runPipeLine(f\"{searchResult['snippet']} {searchResult['name']}\")"
   ]
  },
  {
   "cell_type": "code",
   "execution_count": 60,
   "id": "45c67659",
   "metadata": {},
   "outputs": [
    {
     "name": "stdout",
     "output_type": "stream",
     "text": [
      "EMARAT KAVKAZ\n",
      "{'blacklist': 24, 'sanction': 12, 'ofac': 0, 'embargo': 11}\n"
     ]
    }
   ],
   "source": [
    "print(company)\n",
    "print(amldict)"
   ]
  },
  {
   "cell_type": "code",
   "execution_count": null,
   "id": "75d4c483",
   "metadata": {},
   "outputs": [],
   "source": []
  }
 ],
 "metadata": {
  "kernelspec": {
   "display_name": "Python 3",
   "language": "python",
   "name": "python3"
  },
  "language_info": {
   "codemirror_mode": {
    "name": "ipython",
    "version": 3
   },
   "file_extension": ".py",
   "mimetype": "text/x-python",
   "name": "python",
   "nbconvert_exporter": "python",
   "pygments_lexer": "ipython3",
   "version": "3.9.4"
  }
 },
 "nbformat": 4,
 "nbformat_minor": 5
}
